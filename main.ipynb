{
 "cells": [
  {
   "cell_type": "markdown",
   "id": "57e03768",
   "metadata": {},
   "source": [
    "## Sentiment Analysis Trader\n",
    "\n",
    "Started on 4/10/2025\n",
    "\n",
    "Goal: Load the dataset and finetune FinBERT"
   ]
  },
  {
   "cell_type": "markdown",
   "id": "34dbdd4b",
   "metadata": {},
   "source": [
    "### Setup"
   ]
  },
  {
   "cell_type": "code",
   "execution_count": null,
   "id": "8e0d2166",
   "metadata": {},
   "outputs": [],
   "source": []
  }
 ],
 "metadata": {
  "language_info": {
   "name": "python"
  }
 },
 "nbformat": 4,
 "nbformat_minor": 5
}
